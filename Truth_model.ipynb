{
  "nbformat": 4,
  "nbformat_minor": 0,
  "metadata": {
    "colab": {
      "provenance": [],
      "mount_file_id": "1D3rYU8Gurfy5HxgFK1Jbs8_RK6UujSt5",
      "authorship_tag": "ABX9TyM8ix+bOS41yNkLwz2Jj+lP",
      "include_colab_link": true
    },
    "kernelspec": {
      "name": "python3",
      "display_name": "Python 3"
    },
    "language_info": {
      "name": "python"
    }
  },
  "cells": [
    {
      "cell_type": "markdown",
      "metadata": {
        "id": "view-in-github",
        "colab_type": "text"
      },
      "source": [
        "<a href=\"https://colab.research.google.com/github/smokingsnakes83/Truth_model/blob/main/Truth_model.ipynb\" target=\"_parent\"><img src=\"https://colab.research.google.com/assets/colab-badge.svg\" alt=\"Open In Colab\"/></a>"
      ]
    },
    {
      "cell_type": "code",
      "source": [
        "import pandas as pd\n",
        "import numpy as np\n",
        "import google.generativeai as genai\n",
        "import textwrap\n",
        "\n",
        "# Used to securely store your API key\n",
        "from google.colab import userdata\n",
        "\n",
        "from IPython.display import Markdown\n",
        "from IPython.display import display\n",
        "\n",
        "def to_markdown(text):\n",
        "  text = text.replace('•', '  *')\n",
        "  return Markdown(textwrap.indent(text, '> ', predicate=lambda _: True))"
      ],
      "metadata": {
        "id": "mwXEi5wq5Byu"
      },
      "execution_count": 1,
      "outputs": []
    },
    {
      "cell_type": "code",
      "source": [
        "# Obtém a chave de API a partir dos dados do usuário\n",
        "API_KEY=userdata.get('API_KEY')\n",
        "\n",
        "# Configura a biblioteca genai com a chave de API obtida\n",
        "genai.configure(api_key=API_KEY) #Substitua pela sua 'API_KEY' sua API aqui"
      ],
      "metadata": {
        "id": "mCylqZwxJGTI"
      },
      "execution_count": 2,
      "outputs": []
    },
    {
      "cell_type": "markdown",
      "source": [
        "# Criando dataset para o treinamento do modelo e salvando-o em um arquivo .csv"
      ],
      "metadata": {
        "id": "j2FPjfe7tfFs"
      }
    },
    {
      "cell_type": "code",
      "source": [
        "# Cria um dicionário contendo dados sobre IA\n",
        "# data_1 = {\n",
        "#      'Titulo': [\n",
        "#          \"Aplicações da IA,  Ética na IA, Futuro da IA\",\n",
        "#          \"Aprendizado de máquina,  Processamento de linguagem natural, Visão computacional\",\n",
        "#          \"Redes neurais, Deep learning, Reinforcement learning\"\n",
        "#      ],\n",
        "#      'Conteúdo': [\n",
        "#          \"A IA tem aplicações em diversas áreas, como saúde, finanças e transporte. A ética na IA é crucial para garantir que a tecnologia seja usada de forma justa e responsável. O futuro da IA é promissor, com avanços contínuos e potencial para transformar muitos aspectos da sociedade.\",\n",
        "#          \"O aprendizado de máquina permite que os computadores aprendam com os dados sem programação explícita. O processamento de linguagem natural permite que os computadores entendam e processem a linguagem humana. A visão computacional permite que os computadores \\\"vejam\\\" e interpretem imagens.\",\n",
        "#          \"As redes neurais são modelos computacionais inspirados no cérebro humano. O deep learning é um subcampo do aprendizado de máquina que usa redes neurais com várias camadas. O reinforcement learning é um tipo de aprendizado de máquina em que os agentes aprendem por meio de tentativa e erro.\"\n",
        "#      ]\n",
        "# }\n",
        "\n",
        "# Truth_model dataset\n",
        "data_2 = {\n",
        "      'Titulo': [\n",
        "        'Primeira lição: Capitalismo',\n",
        "        'Segunda lição: Socialismo',\n",
        "        'Terceira lição: Intervencionismo',\n",
        "        'Quarta lição: Inflação',\n",
        "        'Quinta lição: Investimento Estrangeiro',\n",
        "        'Sexta lição: Política e Ideias',\n",
        "        'Um histórico vermelho de sangue do comunismo',\n",
        "        'A Babilônia Monetária e a Necessidade de uma Perspectiva:',\n",
        "        'O Dinheiro como Mercadoria e a Evolução em uma Sociedade Livre:',\n",
        "        'O Papel do Governo e a Falácia da \"Estabilidade\" Monetária:',\n",
        "        'O Livre Mercado e a Criação de Dinheiro:',\n",
        "        'Pontos Chave'\n",
        "\n",
        "    ],\n",
        "      'Conteudo': [\n",
        "        'Mises começa sua primeira palestra com uma visão geral do desenvolvimento do capitalismo a partir do feudalismo. As empresas começaram a \"produção em massa para satisfazer as necessidades das massas\" em vez de se concentrarem na produção de bens de luxo para a elite. Essas grandes empresas tiveram sucesso porque atenderam às necessidades de um grupo maior de pessoas, e seu sucesso dependeu inteiramente de sua capacidade de dar a essa massa de consumidores o que eles queriam.\\\n",
        "        Apesar dos aumentos surpreendentes e inegáveis nos padrões de vida, mesmo para uma população crescente, o capitalismo teve seus detratores, incluindo Karl Marx, que deu esse nome ao capitalismo. Mises diz que, embora Marx odiasse o capitalismo e que Marx o apelidou assim como um ataque ao sistema, o nome é bom, porque:\\\n",
        "        indica claramente a origem dos grandes progressos sociais ocasionados pelo capitalismo.  Esses progressos são fruto da acumulação do capital; baseiam-se no fato de que as pessoas, por via de regra, não consomem tudo o que produzem e no fato de que elas poupam -- e investem -- parte desse montante.\\\n",
        "        A prosperidade é o resultado de prover para o futuro – mais precisamente é o resultado de deixar de lado o consumo hoje, poupando e investindo recursos na produção. Mises diz que esse princípio explica por que alguns países são mais prósperos do que outros. Quando se trata de crescimento econômico, \"não há milagres\". Há apenas \"a aplicação dos princípios da economia de livre mercado, dos métodos do capitalismo\".',\n",
        "\n",
        "        'Na segunda palestra, Mises examina mais de perto o sistema proposto por Marx: o socialismo. A liberdade econômica significa que as pessoas podem escolher suas próprias carreiras e usar seus recursos para realizar seus próprios fins. A liberdade econômica é a base de todas as outras liberdades. Por exemplo, quando o governo se apodera de indústrias inteiras, como a da imprensa, ele determina o que será publicado e o que não será publicado e a \"liberdade de imprensa desaparece\".\\\n",
        "        Mises reconhece que não existe \"liberdade perfeita\" em um sentido metafísico. Devemos obedecer às leis da natureza, especialmente se pretendemos usar e transformar a natureza de acordo com nossos fins. E mesmo a liberdade econômica significa que há uma interdependência fundamental entre os indivíduos: \"A liberdade na sociedade significa que um homem depende tanto de outras pessoas quanto outras pessoas dependem dele\". Isso vale também para as grandes empresas e para os empreendedores que as lideram. Os verdadeiros \"patrões\" na economia de mercado não são aqueles que gritam ordens aos trabalhadores, mas são os consumidores.\\\n",
        "        Os socialistas desprezam a ideia de soberania do consumidor porque isso significa permitir erros. Em sua opinião, o Estado deve desempenhar o papel paternalista de decidir o que é bom para todos. Assim, Mises não vê diferença entre socialismo e sistema de escravidão: \"O escravo deve fazer o que seu superior lhe ordena, mas o cidadão livre – e é isso que a liberdade significa – está em posição de escolher seu próprio modo de vida\". No capitalismo, essa liberdade possibilita que as pessoas nasçam na pobreza, mas depois obtenham grande sucesso ao prover para seus semelhantes. Esse tipo de mobilidade social é impossível sob sistemas como o feudalismo e o socialismo.\\\n",
        "        Mises termina esta palestra com uma breve explicação da crítica do cálculo econômico ao socialismo. Quando a propriedade privada dos meios de produção é proibida, o cálculo econômico é impossibilitado. Sem preços de mercado para fatores, não podemos economizar a produção e suprir as necessidades das massas, não importa quem supervisione o conselho de planejamento socialista. O resultado é a privação em massa e o caos.',\n",
        "\n",
        "        'O intervencionismo descreve uma situação em que o governo \"quer interferir nos fenômenos de mercado\". Cada intervenção envolve uma revogação da soberania do consumidor, como Mises havia explicado nas duas palestras anteriores.\\\n",
        "        O governo quer interferir com a finalidade de obrigar os homens de negócio a conduzir suas atividades de maneira diversa da que escolheriam caso tivessem de obedecer apenas aos consumidores.  Assim, todas as medidas de intervencionismo governamental têm por objetivo restringir a supremacia do consumidor.\\\n",
        "        Mises dá um exemplo de um teto de preço para o leite. Embora aqueles que decretam tal intervenção possam pretender tornar o leite mais acessível para as famílias mais pobres, há muitas consequências não intencionais: aumento da demanda, diminuição da oferta, racionamento sem preço na forma de longas filas nas lojas que vendem leite e, o que é importante, motivos para o governo intervir de novas maneiras agora que sua intervenção inicial não atingiu o objetivo pretendido. Assim, no exemplo de Mises, ele rastreia as novas intervenções, como racionamento do governo, controles de preços para alimentos para gado, controles de preços para bens de luxo e assim por diante, até que o governo tenha interferido em praticamente todas as partes da economia, ou seja, o socialismo.\\\n",
        "        Depois de fornecer alguns exemplos históricos desse processo, Mises dá o panorama geral. O intervencionismo, como uma \"política do meio do caminho\", é, na verdade, um caminho para o totalitarismo.',\n",
        "\n",
        "        'Não há nenhuma maneira secreta para a solução dos problemas financeiros de um governo: se este precisa de dinheiro, tem de obtê-lo impondo tributos aos seus cidadãos (ou, em circunstâncias especiais, tomando-o emprestado de pessoas que têm dinheiro).  Mas muitos governos, podemos mesmo dizer a maioria deles, julga haver um outro método para obter o dinheiro necessário, qual seja, o de simplesmente imprimi-lo.\\\n",
        "        Se o governo tributa os cidadãos para construir um novo hospital, então os cidadãos são forçados a reduzir seus gastos e o governo \"substitui\" os gastos dos cidadãos pelos seus próprios. Se, no entanto, o governo usar dinheiro recém-impresso para financiar a construção do hospital, então não há reposição de gastos, mas um acréscimo, e \"os preços tenderão a subir\".\\\n",
        "        Mises, por norma, explode a ideia de um \"nível de preços\" que sobe e desce, como se todos os preços mudassem simultânea e proporcionalmente. Em vez disso, os preços sobem \"passo a passo\". Os primeiros receptores de dinheiro novo aumentam suas demandas por bens, o que proporciona nova renda para aqueles que vendem esses bens. Esses vendedores agora podem aumentar suas demandas por mercadorias. Isso explica o processo pelo qual alguns preços e a renda de algumas pessoas aumentam antes de outras. O resultado é uma \"revolução dos preços\", em que os preços e a renda sobem de forma gradual, a começar pela origem do novo dinheiro. Dessa forma, o dinheiro novo altera a distribuição de renda e a disposição dos recursos reais em toda a economia, criando \"vencedores\" e \"perdedores\".\\\n",
        "        O padrão-ouro oferece um controle rigoroso contra as tendências inflacionárias dos governos. Em tal sistema, o governo não pode criar novas unidades de dinheiro para financiar seus gastos, por isso deve recorrer à tributação, que é notavelmente impopular. A inflação fiduciária, no entanto, é sutil e seus efeitos são complexos e tardios, o que a torna especialmente atraente para os governos que podem exercê-la.\\\n",
        "        Nesta palestra, Mises também executa uma crítica minuciosa de Keynes e do keynesianismo, mas vou deixar isso para os leitores desfrutarem.',\n",
        "\n",
        "        'Mises retoma um princípio que introduziu na primeira palestra, de que o crescimento econômico decorre da acumulação de capital. As diferenças nos padrões de vida entre os países não são atribuíveis à tecnologia, às qualidades dos trabalhadores ou às habilidades dos empreendedores, mas à disponibilidade de capital.\\\n",
        "        Uma forma de acumular capital dentro de um país é por meio do investimento estrangeiro. Os britânicos, por exemplo, forneceram grande parte do capital necessário para desenvolver o sistema ferroviário nos Estados Unidos e na Europa. Isso proporcionou benefícios mútuos tanto para os britânicos quanto para os países beneficiários desse investimento. Os britânicos obtiveram lucros através de sua propriedade dos sistemas ferroviários, e os países receptores, mesmo com uma balança comercial temporária \"desfavorável\", obtiveram os benefícios do sistema ferroviário, incluindo a expansão da produtividade que, ao longo do tempo, lhes permitiu comprar ações das empresas ferroviárias dos britânicos.\\\n",
        "        O investimento estrangeiro permite que a acumulação de capital em um país acelere o desenvolvimento de outros países, tudo sem um sacrifício unilateral por parte do país que fornece o investimento. Guerras (especialmente guerras mundiais), protecionismo e tributação interna destroem esse processo mutuamente benéfico. Quando os países impõem tarifas ou expropriam o capital que pertence a investidores estrangeiros, eles \"impedem ou retardam a acumulação de capital interno e colocam obstáculos no caminho do capital estrangeiro\".',\n",
        "\n",
        "        'As ideias liberais clássicas dos filósofos do século XVIII e início do XIX ajudaram a criar os governos restritos e a liberdade econômica que levaram à explosão do crescimento econômico que Mises discutiu na primeira palestra. Mas o surgimento de \"grupos de pressão\" minoritários, o que hoje chamaríamos de \"grupos de interesse especial\", afastou os políticos dos ideais liberais clássicos e direcionou os políticos para o intervencionismo. Os grupos que se beneficiariam de várias intervenções pressionam o governo para conceder-lhes favores, como privilégios de monopólio, impostos sobre a concorrência (incluindo tarifas) e subsídios. E, como vimos, essa espiral intervencionista tende ao socialismo e ao totalitarismo. O \"ressurgimento do espírito bélico\" no século XX provocou guerras mundiais e exacerbou as tendências totalitárias mesmo nas nações outrora exemplares.\\\n",
        "        O aumento concomitante dos gastos do governo tornou o dinheiro fiduciário e a inflação tentadores demais. As guerras e projetos especiais defendidos pelos grupos de pressão eram caros, e por isso as restrições orçamentárias foram descartadas em favor da inflação.\\\n",
        "        Isso, diz Mises, explica a queda da civilização. Ele cita o Império Romano como exemplo:\\\n",
        "        Que acontecera? Qual teria sido o problema? Qual poderia ter sido a causa de desintegração de um império que, sob todos os aspectos, construíra uma civilização sem outra que se lhe igualasse até o século XVIII? A verdade é que essa civilização foi destruída por algo semelhante, quase idêntico, aos perigos que rondam hoje a nossa civilização: por um lado houve intervencionismo; por outro, inflação.\\\n",
        "        Mises encontra esperança no fato de que os detratores da liberdade econômica, como Marx e Keynes, não representam as massas ou mesmo a maioria. Marx, por exemplo, \"não era um homem do proletariado. Era filho de um advogado. (...) Ele foi apoiado por seu amigo Friedrich Engels, que – sendo um fabricante – era o pior tipo de \"burguês\", de acordo com as ideias socialistas. Na linguagem do marxismo, ele era um explorador\".\\\n",
        "        Isso implica que o destino da civilização depende de uma batalha de ideias, e Mises pensou que as boas ideias venceriam:\\\n",
        "        Já considero um ótimo sinal o simples fato de eu hoje estar aqui, nesta grande cidade que é Buenos Aires, a convite deste centro, falando sobre a livre economia. Há cinquenta anos, ninguém no mundo ousava dizer uma palavra sequer em favor de uma economia livre.  Hoje, em alguns dos países mais avançados do mundo, já temos instituições que são centros para a propagação destas ideias.\\\n",
        "        Que possamos continuar o projeto de Mises e cumprir sua esperança. O que o mundo precisa é de \"Menos Marx, Mais Mises\".',\n",
        "\n",
        "        'Os atos inomináveis de Adolf Hitler empalidecem em comparação aos horrores cometidos pelos comunistas na antiga URSS, na República Popular da China e no Camboja, apenas para ficar entre os principais.\\\n",
        "        Entre 1917 e 1987, Vladimir Lênin, Josef Stalin e seus sucessores assassinaram 62 milhões de pessoas do seu próprio povo. O ponto de partida foi a Ucrânia, onde, de acordo com o historiador Robert Conquest, o regime comunista foi o responsável direto por 14,5 milhões de mortes.\\\n",
        "        Já entre 1949 e 1987, o comunismo da China, liderado por Mao Tsé-Tung e seus sucessores, assassinou ou de alguma maneira foi o responsável pela morte de 76 milhões de chineses (há historiadores que dizem que o número total pode ser de 100 milhões ou mais. Somente durante o Grande Salto para Frente, de 1959 a 1961, o número de mortos varia entre 20 milhões e 75 milhões. No período anterior foi de 20 milhões. No período posterior, dezenas de milhões a mais.)\\\n",
        "        O próprio Mao Tsé-Tung famosamente se gaba de ter \"enterrado vivos 46.000 intelectuais\", o que significa que ele os enviou para campos de concentração, onde ficariam calados e morreriam de fome.\\\n",
        "        No Camboja, o Khmer Vermelho exterminou aproximadamente 3 milhões de cambojanos, em uma população de 8 milhões. Este radical movimento comunista comandado por Pol Pot chegou ao ponto de ter como alvo qualquer pessoa que usasse óculos. Crianças eram assassinadas a baionetas.\\\n",
        "        No total, os regimes marxistas assassinaram aproximadamente 110 milhões de pessoas de 1917 a 1987. Destes, quase 55 milhões de pessoas morreram em vários surtos de inanição e epidemias provocadas por marxistas -- dentre estas, mais de 10 milhões foram intencionalmente esfaimadas até a morte, e o resto morreu como consequência não-premeditada da coletivização e das políticas agrícolas marxistas.\\\n",
        "        Para se ter uma perspectiva deste número de vidas humanas exterminadas, vale observar que as duas grandes guerras mundiais do século XX, mais as Guerras da Coréia e do Vietnã, mataram aproximadamente 85 milhões de civis. Ou seja, quando marxistas controlam estados, o marxismo é mais letal que as principais guerras do século XX combinadas.',\n",
        "\n",
        "        'Rothbard inicia o capítulo destacando a confusão que permeia o debate sobre a questão monetária. Uma miríade de perguntas sem respostas, como a necessidade ou não de intervenção governamental na oferta de moeda, demonstra a dificuldade em compreender a verdadeira natureza do dinheiro. A autora atribui essa confusão à tendência humana de se concentrar em problemas imediatos e práticos, ignorando as questões mais fundamentais. Para superar essa barreira, Rothbard defende a importância de uma visão mais abrangente, buscando compreender os princípios básicos da ação humana, utilizando como ferramenta a análise do modelo \"Robinson Crusoé\", clássico da teoria econômica.',\n",
        "\n",
        "        'O autor argumenta que o dinheiro surge naturalmente em uma sociedade livre, como resultado do processo de troca indireta. A partir do escambo, as pessoas descobrem que certas mercadorias, devido à sua maior comerciabilidade, se tornam mais desejáveis como meio de troca, impulsionando um ciclo de auto-reforço. Ao longo da história, o ouro e a prata se destacaram nesse processo, se tornando as mercadorias mais amplamente aceitas como dinheiro. Rothbard enfatiza que o dinheiro é uma mercadoria como qualquer outra, sujeita às forças da oferta e da demanda. O \"preço\" do dinheiro, portanto, é seu poder de compra em relação a outros bens, e este poder de compra é determinado pela oferta e demanda.',\n",
        "\n",
        "        'O autor expõe os impactos nocivos da interferência do governo na moeda. Ele critica a crença de que o dinheiro deve ser controlado pelo Estado, através da cunhagem, impressão de papel-moeda, definição de leis de curso forçado e criação de bancos centrais. Rothbard argumenta que essas medidas distorcem o livre mercado, impedindo a alocação eficiente de recursos, gerando inflação, redistribuindo renda de forma injusta e prejudicando o cálculo econômico. Em relação à \"estabilidade\" do poder de compra do dinheiro, Rothbard argumenta que tal objetivo é ilusório e que o livre mercado já oferece mecanismos para se proteger de flutuações do valor do dinheiro, como a indexação de contratos. A intervenção governamental, segundo ele, distorce o mercado e impede a disseminação de um padrão de vida mais elevado através de investimentos em capital e aumento da produtividade.',\n",
        "\n",
        "        'Rothbard defende um sistema monetário livre, onde a escolha da mercadoria a ser utilizada como dinheiro, seu formato e a oferta são determinados pelo livre mercado. A cunhagem privada é defendida como uma atividade legítima, sujeita à concorrência e à fiscalização do mercado. Ele refuta a alegação de que a Lei de Gresham (o dinheiro ruim expulsa o dinheiro bom) inviabilizaria o sistema, argumentando que tal lei se aplica apenas em situações de controle de preços imposto pelo governo. Rothbard critica a prática de reservas fracionárias dos bancos, afirmando que ela representa uma forma de fraude, uma vez que os bancos emitem recibos de armazenagem de ouro sem ter lastro em ouro suficiente para cobrir todas as suas obrigações. Ele argumenta que esse sistema, inerentemente inflacionário, distorce o cálculo econômico, prejudica a poupança e estimula o endividamento, gerando ciclos econômicos.',\n",
        "\n",
        "        'O dinheiro surge naturalmente em uma sociedade livre como resultado do processo de troca indireta. O dinheiro é uma mercadoria, sujeita às forças da oferta e da demanda. O controle governamental da moeda é prejudicial, distorcendo o livre mercado, gerando inflação e prejudicando o cálculo econômico. A \"estabilidade\" do poder de compra do dinheiro é um objetivo ilusório. Um sistema monetário livre, com cunhagem privada e livre oferta de moeda, seria mais eficiente e mais justo do que um sistema controlado pelo governo.'\n",
        "    ]\n",
        "}\n",
        "\n",
        "# Cria um dataframe pandas a partir do dicionário\n",
        "df = pd.DataFrame(data_2)\n",
        "\n",
        "# Salva o dataframe em um arquivo CSV chamado 'informacoes_ia.csv'\n",
        "# O argumento 'index=False' impede que o índice do dataframe seja salvo no arquivo\n",
        "df.to_csv('informacoes_ia.csv', index=False)"
      ],
      "metadata": {
        "id": "FD9HnlOsIkPX"
      },
      "execution_count": 3,
      "outputs": []
    },
    {
      "cell_type": "code",
      "source": [
        "#df"
      ],
      "metadata": {
        "id": "mEtkMldW5O2z"
      },
      "execution_count": 4,
      "outputs": []
    },
    {
      "cell_type": "markdown",
      "source": [
        "# Carregando o arquivo CSV em um dataframe pandas e iniciando vetorizador TF-IDF"
      ],
      "metadata": {
        "id": "tYR9Azmkudzs"
      }
    },
    {
      "cell_type": "code",
      "execution_count": 5,
      "metadata": {
        "id": "MuQ6u0QX18Te"
      },
      "outputs": [],
      "source": [
        "# Carrega o arquivo CSV 'informacoes_ia.csv' em um dataframe pandas\n",
        "df = pd.read_csv('informacoes_ia.csv')"
      ]
    },
    {
      "cell_type": "code",
      "source": [
        "df = pd.DataFrame(df)\n",
        "df.columns = ['Titulo', 'Conteudo']\n",
        "#df"
      ],
      "metadata": {
        "id": "j-1DoKKP1-4H"
      },
      "execution_count": 6,
      "outputs": []
    },
    {
      "cell_type": "markdown",
      "source": [
        "# **Model**"
      ],
      "metadata": {
        "id": "J7cSW9FyvT82"
      }
    },
    {
      "cell_type": "code",
      "source": [
        "# Definindo o modelo na variável model\n",
        "embed_model = 'models/embedding-001'"
      ],
      "metadata": {
        "id": "ngyF8IHuMvRT"
      },
      "execution_count": 7,
      "outputs": []
    },
    {
      "cell_type": "markdown",
      "source": [
        "# **Função que Gera Embeddings para os Documentos**\n",
        "#**Documentação Detalhada**\n",
        "###**Função embed_fn:**<br>\n",
        "A função **embed_fn** recebe o título e o texto de um documento como entrada.\n",
        "Ela usa a função genai.embed_content (assumindo que genai é uma biblioteca ou API de embedding) para gerar um vetor de embedding que representa o documento.\n",
        "\n",
        "O argumento **model** especifica o modelo de embedding a ser usado.\n",
        "\n",
        "O argumento **task_type='retrieval_document'** indica que o embedding será usado para tarefas de recuperação de documentos.\n",
        "A função retorna o vetor de embedding do documento.\n",
        "\n",
        "###**Aplicação da função ao dataframe:**<br>\n",
        "A linha **df['Embeddings'] = df.apply(lambda row: embed_fn(row['Titulo'], row['Conteudo']), axis=1)** aplica a função embed_fn a cada linha do dataframe df.<br><br>\n",
        "**df.apply(..., axis=1)** aplica a função a cada linha (eixo 1).<br><br>\n",
        "A função **lambda lambda row: embed_fn(row['Titulo'], row['Conteudo'])** extrai o título **(row['Titulo'])** e o conteúdo **(row['Conteudo'])** de cada linha e os passa para a função **embed_fn**.<br><br>\n",
        "O resultado da função **embed_fn (o vetor de embedding)** é armazenado na nova coluna **'Embeddings'** do dataframe.\n",
        "###**Finalidade:**\n",
        "Este código gera embeddings para cada documento (representado por título e conteúdo) no dataframe, armazenando os embeddings na coluna 'Embeddings'. Isso permite que os documentos sejam comparados semanticamente usando seus embeddings, por exemplo, para realizar buscas por similaridade ou agrupamento."
      ],
      "metadata": {
        "id": "ZXNMCOKuzPEa"
      }
    },
    {
      "cell_type": "code",
      "source": [
        "def embed_fn(title, text):\n",
        "\n",
        "  \"\"\"\n",
        "  Gera embeddings para documentos usando o modelo especificado.\n",
        "\n",
        "  Args:\n",
        "      title: O título do documento.\n",
        "      text: O corpo do texto do documento.\n",
        "\n",
        "  Returns:\n",
        "      Um vetor de embedding representando o documento.\n",
        "  \"\"\"\n",
        "\n",
        "  return genai.embed_content(model=embed_model,\n",
        "                             content=text,\n",
        "                             task_type='retrieval_document',\n",
        "                             title=title)['embedding']\n",
        "\n",
        "# Aplica a função embed_fn a cada linha do dataframe\n",
        "df['Embeddings'] = df.apply(lambda row: embed_fn(row['Titulo'], row['Conteudo']), axis=1)\n",
        "\n",
        "# Exibe o dataframe com a nova coluna 'Embeddings'\n",
        "#df"
      ],
      "metadata": {
        "id": "DbrrA_92LlLW"
      },
      "execution_count": 8,
      "outputs": []
    },
    {
      "cell_type": "markdown",
      "source": [
        "#**Função que gera embeddings das consultas**\n",
        "##**Documentação detalhada:**\n",
        "###**Objetivo:**<br>\n",
        "A função ***generate_query*** visa recuperar a informação mais relevante de um conjunto de dados estruturado com base na similaridade semântica com uma consulta fornecida pelo usuário.\n",
        "###**Funcionamento:**<br>\n",
        "1. **generate_query:** A função gera um embedding da consulta usando a função *genai.embed_content*.<br>\n",
        "2. **similarity**: Em seguida, a função calcula a similaridade do cosseno entre o embedding da consulta e os embeddings armazenados no dataframe base.\n",
        "3. **Identificação da informação mais semelhante:** O índice da informação com maior similaridade é identificado.\n",
        "Verificação da similaridade: A similaridade é comparada com o limite definido.<br>\n",
        "4. **Retorno da informação:** Se a similaridade for maior ou igual ao limite, a função retorna a informação correspondente do dataframe.\n",
        "5. **Mensagem de erro:** Se a similaridade for menor que o limite, a função retorna uma mensagem informando que não foi possível encontrar uma resposta adequada.\n",
        "#**Utilização:**\n",
        "A função recebe a consulta do usuário (*query*), o dataframe contendo os embeddings e as informações (*base*), o modelo de embedding (*model*), e o limite de similaridade (*limit*).<br>\n",
        "A função retorna uma tupla contendo a informação correspondente ou a mensagem de erro, juntamente com o valor da similaridade do cosseno.\n",
        "###**Observações:**\n",
        "O código assume que a biblioteca genai está disponível e configurada.\n",
        "O dataframe base precisa conter as colunas 'Embeddings' e 'Conteudo'.\n",
        "O limite de similaridade (*limit*) pode ser ajustado para controlar a sensibilidade da busca.\n",
        "\n"
      ],
      "metadata": {
        "id": "812b5z37vvS8"
      }
    },
    {
      "cell_type": "code",
      "source": [
        "def generate_query(query, base, model, limit=0.66):\n",
        "  \"\"\"\n",
        "  Gera uma consulta semântica e retorna a informação correspondente no dataframe.\n",
        "\n",
        "  Args:\n",
        "      query: A consulta do usuário.\n",
        "      base: O dataframe contendo os embeddings e as informações.\n",
        "      model: O modelo de embedding.\n",
        "      limite: Limite de similaridade para considerar uma resposta válida.\n",
        "\n",
        "  Returns:\n",
        "      A informação correspondente à consulta ou uma mensagem de erro caso a similaridade seja insuficiente.\n",
        "  \"\"\"\n",
        "\n",
        "  query_embed = genai.embed_content(model=model,\n",
        "                                    content=query,\n",
        "                                    task_type='retrieval_query') ['embedding']\n",
        "\n",
        "  dot_products = np.dot(np.stack(df['Embeddings']), query_embed)\n",
        "  idx = np.argmax(dot_products)\n",
        "\n",
        "  # Calcula a similaridade do cosseno\n",
        "  similarity = dot_products[idx] / (np.linalg.norm(query_embed) * np.linalg.norm(base['Embeddings'][idx]))\n",
        "\n",
        "  #Verificar se a maior similaridade está acima do limite\n",
        "  if similarity >= limit:\n",
        "    print('\\nSimilaridade:', similarity)\n",
        "    return df.iloc[idx]['Conteudo']\n",
        "  else:\n",
        "    print('\\nSimilaridade:', similarity)\n",
        "    return 'Sinto muito em não poder ajuda-lo, ainda não fui treinado para dar esta resposta.'"
      ],
      "metadata": {
        "id": "r0gg_s87QnIl"
      },
      "execution_count": 9,
      "outputs": []
    },
    {
      "cell_type": "markdown",
      "source": [
        "# **Configurações do modelo**"
      ],
      "metadata": {
        "id": "VE7H1umAaa8q"
      }
    },
    {
      "cell_type": "code",
      "source": [
        "gen_config = {\n",
        "    'candidate_count': 1,\n",
        "    'temperature': 0.5\n",
        "}\n",
        "\n",
        "safety_config = {\n",
        "    'harassment': 'block_none',\n",
        "    'hate': 'block_none',\n",
        "    'sexual': 'block_none',\n",
        "    'dangerous': 'block_none'\n",
        "}"
      ],
      "metadata": {
        "id": "ZrOllhQZZ6r1"
      },
      "execution_count": 10,
      "outputs": []
    },
    {
      "cell_type": "markdown",
      "source": [
        "#**Consulta**"
      ],
      "metadata": {
        "id": "UEuDm3e-wL2S"
      }
    },
    {
      "cell_type": "code",
      "source": [
        "print('Para sair digite (q)')\n",
        "query = input('Faça sua consulta: ')\n",
        "\n",
        "while query != 'q':\n",
        "  passage = generate_query(query, df, embed_model)\n",
        "  #Markdown(f'###{passage}')\n",
        "\n",
        "  prompt = f'Reescreva este texto de como um especialista no assunto e de forma didática, mas sem adicionar informações que não faça parte do texto: {passage}'\n",
        "\n",
        "  gen_model = genai.GenerativeModel('gemini-1.5-pro-latest',\n",
        "                                          generation_config=gen_config,\n",
        "                                          safety_settings=safety_config)\n",
        "\n",
        "  response = gen_model.generate_content(prompt, stream=True)\n",
        "  response.resolve()\n",
        "\n",
        "  print()\n",
        "\n",
        "  display(to_markdown(response.text))\n",
        "  %time\n",
        "\n",
        "  print('\\nPara sair digite (q)')\n",
        "  query = input('Faça sua consulta: ') # substitua pela sua consulta"
      ],
      "metadata": {
        "id": "NBJoIQTTUUiG",
        "collapsed": true
      },
      "execution_count": null,
      "outputs": []
    }
  ]
}